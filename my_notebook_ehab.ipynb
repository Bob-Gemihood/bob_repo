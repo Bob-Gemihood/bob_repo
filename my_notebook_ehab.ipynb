{
    "cells": [
        {
            "cell_type": "markdown",
            "metadata": {
                "collapsed": true
            },
            "source": "# My Jubyter Notebook on IBM Watson Studio"
        },
        {
            "cell_type": "markdown",
            "metadata": {},
            "source": "# **EHAB MOHAMED ABDALLAH ELGAMAL**\n# Cardiology Specialist"
        },
        {
            "cell_type": "markdown",
            "metadata": {},
            "source": "### *I'm interested in Data Science because I like to get insights from data*\n### *This is of great help for me in medical research.*\n### *I started by learning R then Python programming languages that increased my passion to learn more & to be specialized in this field*"
        },
        {
            "cell_type": "markdown",
            "metadata": {},
            "source": "### Comparison between 2 variables"
        },
        {
            "cell_type": "code",
            "execution_count": 1,
            "metadata": {},
            "outputs": [
                {
                    "data": {
                        "text/plain": "True"
                    },
                    "execution_count": 1,
                    "metadata": {},
                    "output_type": "execute_result"
                }
            ],
            "source": "A = 5\nB = 10\nA < B"
        },
        {
            "cell_type": "markdown",
            "metadata": {},
            "source": "> IBM Watson OpenScale has the following functions:\n***\n\n1. Fairness.\n2. Explainability.\n3. Model monitoriong.\n4. Business impact."
        },
        {
            "cell_type": "code",
            "execution_count": null,
            "metadata": {},
            "outputs": [],
            "source": ""
        }
    ],
    "metadata": {
        "kernelspec": {
            "display_name": "Python 3.9",
            "language": "python",
            "name": "python3"
        },
        "language_info": {
            "codemirror_mode": {
                "name": "ipython",
                "version": 3
            },
            "file_extension": ".py",
            "mimetype": "text/x-python",
            "name": "python",
            "nbconvert_exporter": "python",
            "pygments_lexer": "ipython3",
            "version": "3.9.13"
        }
    },
    "nbformat": 4,
    "nbformat_minor": 1
}